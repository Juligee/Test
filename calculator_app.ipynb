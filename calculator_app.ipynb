{
 "cells": [
  {
   "cell_type": "code",
   "execution_count": null,
   "metadata": {},
   "outputs": [],
   "source": [
    "#BUILDING A BETTER CALCULATOR: \n",
    "\n",
    "#Enter first Number\n",
    "num1 = float(input('Enter first number: '))\n",
    "\n",
    "#Enter operator to perform\n",
    "op = input('Enter operator: ')\n",
    "\n",
    "#Enter second Number\n",
    "num2 = float(input('Enter second number: '))\n",
    "\n",
    "if op == '+':\n",
    "    print(num1 + num2)\n",
    "elif op == \"-\":\n",
    "    print(\"The answer from calculation: \", num1 - num2)\n",
    "elif op == \"/\":\n",
    "    print(\"The answer from calculation: \", num1 / num2)\n",
    "\n",
    "#Note: / stroke right is division\n",
    "elif op == \"*\":\n",
    "    print(\"The answer from calculation: \", num1 * num2)\n",
    "else:\n",
    "    print('Invalid operator')\n",
    "\n",
    "print(\"Do you want to calculate again?\")"
   ]
  }
 ],
 "metadata": {
  "kernelspec": {
   "display_name": "Python 3",
   "language": "python",
   "name": "python3"
  },
  "language_info": {
   "name": "python",
   "version": "3.11.1 (tags/v3.11.1:a7a450f, Dec  6 2022, 19:58:39) [MSC v.1934 64 bit (AMD64)]"
  },
  "orig_nbformat": 4,
  "vscode": {
   "interpreter": {
    "hash": "3d78c7bf57e2a7918d6d925812c618ad0c0d32df8248a36a4b3f8d849a382adb"
   }
  }
 },
 "nbformat": 4,
 "nbformat_minor": 2
}
